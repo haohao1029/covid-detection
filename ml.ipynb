{
 "cells": [
  {
   "cell_type": "code",
   "execution_count": null,
   "metadata": {},
   "outputs": [],
   "source": [
    "import json\n",
    "import numpy as np\n",
    "from sklearn.model_selection import train_test_split\n",
    "import tensorflow as tf\n",
    "import tensorflow.keras as keras\n",
    "from glob import glob\n",
    "import matplotlib.pyplot as plt\n",
    "import librosa\n",
    "import librosa.display\n",
    "\n",
    "\n"
   ]
  },
  {
   "cell_type": "code",
   "execution_count": null,
   "metadata": {},
   "outputs": [],
   "source": [
    "cough_heavy_list = []\n",
    "covid_status_list = []\n",
    "\n",
    "metadatafiles = glob(\"metadata/*/metadata.json\")\n",
    "# with open(metadatafiles[0]) as file:\n",
    "#     json_data = json.load(file)\n",
    "#     cough_heavy_np = np.array(json_data[\"heavy_cough\"])\n",
    "#     cough_heavy.append(cough_heavy_np)\n",
    "#     covid_status.append(json_data[\"covid_status\"])\n",
    "\n",
    "\n",
    "# with open('cough.json') as file:\n",
    "#     json_data = json.load(file)\n",
    "#     cough_heavy =  np.array(json_data[\"cough\"])\n",
    "#     covid_status = np.array(json_data[\"covid_status\"])\n",
    "#     ids = np.array(json_data[\"ids\"])\n",
    "\n",
    "#  np.array([\"cough_heavy\"])\n",
    "for metadatafile in metadatafiles[:2]:\n",
    "    try:\n",
    "        with open(metadatafile) as f:\n",
    "            metadata = json.load(f)\n",
    "            if \"cough_heavy\" in metadata and \"covid_status_num\" in metadata:\n",
    "                cough_heavy = metadata[\"cough_heavy\"]\n",
    "                np_cough_heavy = np.array(cough_heavy)\n",
    "                cough_heavy_list.append(np_cough_heavy)\n",
    "                covid_status_list.append(metadata[\"covid_status_num\"])\n",
    "    except:\n",
    "        continue\n",
    "print(len(cough_heavy_list))\n",
    "print(len(covid_status_list))\n",
    "X = np.array(cough_heavy_list)\n",
    "print(X.shape)\n",
    "y = np.array(covid_status_list)"
   ]
  },
  {
   "cell_type": "code",
   "execution_count": null,
   "metadata": {},
   "outputs": [],
   "source": [
    "metadatafiles = glob(\"Extracted_data/*/*/metadata.json\")\n",
    "metadatafile = metadatafiles[0]\n",
    "with open(metadatafile) as f:\n",
    "    metadata = json.load(f)\n",
    "    cough_heavy = metadata[\"cough_heavy\"]\n",
    "    np_cough_heavy = np.array(cough_heavy)\n",
    "print(np_cough_heavy.shape)\n",
    "cough_heavy_list = []\n",
    "covid_status_list = []\n",
    "for metadatafile in metadatafiles[:]:\n",
    "    try:\n",
    "        with open(metadatafile) as f:\n",
    "            metadata = json.load(f)\n",
    "            if \"cough_heavy\" in metadata and \"covid_status_num\" in metadata:\n",
    "                cough_heavy = metadata[\"cough_heavy\"]\n",
    "                cough_heavy_list.append(np_cough_heavy)\n",
    "                covid_status_list.append(metadata[\"covid_status_num\"])\n",
    "    except:\n",
    "        continue\n",
    "X = np.array(cough_heavy_list)\n",
    "y = np.array(covid_status_list)"
   ]
  },
  {
   "cell_type": "code",
   "execution_count": null,
   "metadata": {},
   "outputs": [],
   "source": [
    "for i, v in enumerate(cough_heavy_list):\n",
    "    print(v.shape)"
   ]
  },
  {
   "cell_type": "code",
   "execution_count": null,
   "metadata": {},
   "outputs": [],
   "source": [
    "X_train, X_test, y_train, y_test = train_test_split(X, y, test_size=0.3)\n",
    "print(X_train.shape)"
   ]
  },
  {
   "cell_type": "code",
   "execution_count": null,
   "metadata": {},
   "outputs": [],
   "source": [
    "X_train, X_test, y_train, y_test = train_test_split(X, y, test_size=0.3)\n",
    "print(X_train.shape)\n",
    "model = keras.Sequential([\n",
    "    keras.layers.LSTM(64, input_shape=(X.shape[1], X.shape[2]), return_sequences=True),\n",
    "    keras.layers.LSTM(64),\n",
    "    keras.layers.Dense(64, activation='relu'),\n",
    "    keras.layers.Dropout(0.3),\n",
    "    keras.layers.Dense(10, activation='softmax'),\n",
    "])\n",
    "# compile model\n",
    "optimiser = keras.optimizers.Adam(learning_rate=0.0001)\n",
    "model.compile(optimizer=optimiser,\n",
    "              loss='sparse_categorical_crossentropy',\n",
    "              metrics=['accuracy'])\n",
    "\n",
    "history = model.fit(X_train, y_train, epochs=10)\n",
    "\n",
    "fig, axs = plt.subplots(2)\n",
    "fig.suptitle('Loss and Accuracy')\n",
    "axs[0].plot(history.history['loss'], label='train loss')\n",
    "axs[0].set_ylabel('Loss')\n",
    "axs[0].legend(loc='upper left')\n",
    "axs[0].set_title('Loss')\n",
    "axs[1].plot(history.history['accuracy'], label='train accuracy')\n",
    "axs[1].set_ylabel('Accuracy')\n",
    "axs[1].set_xlabel('epoch')\n",
    "axs[1].legend(loc='upper left')\n",
    "axs[1].set_title('Accuracy')\n",
    "plt.show()\n"
   ]
  },
  {
   "cell_type": "code",
   "execution_count": null,
   "metadata": {},
   "outputs": [],
   "source": [
    "model.save('./models/cough_model.h5')"
   ]
  },
  {
   "cell_type": "code",
   "execution_count": null,
   "metadata": {},
   "outputs": [],
   "source": [
    "model = keras.models.load_model('./models/cough_model.h5')"
   ]
  },
  {
   "cell_type": "code",
   "execution_count": null,
   "metadata": {},
   "outputs": [],
   "source": [
    "audio_files = glob(\"Extracted_data/*/*/cough-heavy.wav\")\n",
    "audio_file = audio_files[0]\n",
    "y, sr = librosa.load(audio_file)\n",
    "S = librosa.feature.melspectrogram(y, sr=sr, n_mels=128, fmax=8000)\n",
    "S_dB_mel = librosa.amplitude_to_db(S, ref=np.max)\n",
    "print(S_dB_mel.shape)\n",
    "audio_file = audio_files[1]\n",
    "y, sr = librosa.load(audio_file)\n",
    "S = librosa.feature.melspectrogram(y, sr=sr, n_mels=128, fmax=8000)\n",
    "S_dB_mel = librosa.amplitude_to_db(S, ref=np.max)\n",
    "print(S_dB_mel.shape)\n"
   ]
  },
  {
   "cell_type": "code",
   "execution_count": null,
   "metadata": {},
   "outputs": [],
   "source": [
    "model.evaluate(X_test,  y_test, verbose=2)\n"
   ]
  },
  {
   "cell_type": "code",
   "execution_count": null,
   "metadata": {},
   "outputs": [],
   "source": [
    "audio_file = \"./cough-heavy.wav\"\n",
    "y,sr = librosa.load(audio_file)\n",
    "S = librosa.feature.melspectrogram(y, sr=sr, n_mels=128, fmax=8000)\n",
    "S_dB_mel = librosa.amplitude_to_db(S, ref=np.max)\n",
    "#128, 225\n",
    "\n",
    "S_dB_mel = S_dB_mel[:128, :225]\n",
    "fig,ax = plt.subplots(figsize=(10, 5))\n",
    "img = librosa.display.specshow(S_dB_mel, y_axis='log', x_axis='time', ax=ax)\n",
    "ax.set_title('Power spectrogram')\n",
    "fig.colorbar(img, ax=ax, format='%+2.0f dB')\n",
    "plt.show()\n",
    "S_dB_mel_np_arr = np.array([S_dB_mel])\n",
    "print(S_dB_mel_np_arr.shape)\n",
    "# p = model.predict(S_dB_mel_np_arr)\n",
    "# p = np.argmax(p, axis=1)\n",
    "# print(p)"
   ]
  }
 ],
 "metadata": {
  "kernelspec": {
   "display_name": "Python 3.10.6 64-bit",
   "language": "python",
   "name": "python3"
  },
  "language_info": {
   "codemirror_mode": {
    "name": "ipython",
    "version": 3
   },
   "file_extension": ".py",
   "mimetype": "text/x-python",
   "name": "python",
   "nbconvert_exporter": "python",
   "pygments_lexer": "ipython3",
   "version": "3.10.6"
  },
  "orig_nbformat": 4,
  "vscode": {
   "interpreter": {
    "hash": "2826952ac857ad41db1b5483c8d3a080b5ce91a3525384be21ac6c8c3a269631"
   }
  }
 },
 "nbformat": 4,
 "nbformat_minor": 2
}
