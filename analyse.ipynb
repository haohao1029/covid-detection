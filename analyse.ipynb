{
 "cells": [
  {
   "cell_type": "code",
   "execution_count": null,
   "metadata": {},
   "outputs": [],
   "source": [
    "import tensorflow.keras as keras\n",
    "import librosa\n",
    "import numpy as np"
   ]
  },
  {
   "cell_type": "code",
   "execution_count": null,
   "metadata": {},
   "outputs": [],
   "source": [
    "model = keras.models.load_model('./models/cough_model.h5')"
   ]
  },
  {
   "cell_type": "code",
   "execution_count": null,
   "metadata": {},
   "outputs": [],
   "source": [
    "covid_status_name = ['healthy', 'no_resp_illness_exposed', 'resp_illness_not_identified', 'positive_moderate', 'recovered_full', 'positive_mild', 'positive_asymp', 'under_validation']\n",
    "y,sr = librosa.load(\"./cough-heavy.wav\")\n",
    "S = librosa.feature.melspectrogram(y, sr=sr, n_mels=128, fmax=8000)\n",
    "S_dB_mel = librosa.amplitude_to_db(S, ref=np.max)\n",
    "S_dB_mel = S_dB_mel[:128, :225]\n",
    "S_dB_mel_np_arr = np.array([S_dB_mel])\n",
    "p = model.predict(S_dB_mel_np_arr)\n",
    "p = np.argmax(p, axis=1)\n",
    "print(p)\n",
    "print(covid_status_name[p.tolist()[0]])"
   ]
  }
 ],
 "metadata": {
  "kernelspec": {
   "display_name": "Python 3.10.6 64-bit",
   "language": "python",
   "name": "python3"
  },
  "language_info": {
   "name": "python",
   "version": "3.10.6"
  },
  "orig_nbformat": 4,
  "vscode": {
   "interpreter": {
    "hash": "2826952ac857ad41db1b5483c8d3a080b5ce91a3525384be21ac6c8c3a269631"
   }
  }
 },
 "nbformat": 4,
 "nbformat_minor": 2
}
